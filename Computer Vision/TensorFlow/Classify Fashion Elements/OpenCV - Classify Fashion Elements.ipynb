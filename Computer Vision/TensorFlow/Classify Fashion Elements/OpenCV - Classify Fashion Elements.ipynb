{
 "cells": [
  {
   "cell_type": "markdown",
   "id": "678b7a2f",
   "metadata": {},
   "source": [
    "# OpenCV - Classify Fashion Elements with TensorFlow"
   ]
  },
  {
   "cell_type": "code",
   "execution_count": null,
   "id": "53d3c14c",
   "metadata": {},
   "outputs": [],
   "source": [
    "from keras.models import load_model  # TensorFlow is required for Keras to work\n",
    "import cv2  # Install opencv-python\n",
    "import numpy as np"
   ]
  },
  {
   "cell_type": "code",
   "execution_count": null,
   "id": "57207ea7",
   "metadata": {},
   "outputs": [],
   "source": [
    "# Disable scientific notation for clarity\n",
    "np.set_printoptions(suppress=True)"
   ]
  },
  {
   "cell_type": "code",
   "execution_count": null,
   "id": "4f33b103",
   "metadata": {},
   "outputs": [],
   "source": [
    "# Load the model\n",
    "model = load_model(\"keras_Model.h5\", compile=False)"
   ]
  },
  {
   "cell_type": "code",
   "execution_count": null,
   "id": "29d8c705",
   "metadata": {},
   "outputs": [],
   "source": [
    "# Load the labels\n",
    "class_names = open(\"labels.txt\", \"r\").readlines()"
   ]
  },
  {
   "cell_type": "code",
   "execution_count": null,
   "id": "abab3b16",
   "metadata": {},
   "outputs": [],
   "source": [
    "# CAMERA can be 0 or 1 based on default camera of your computer\n",
    "camera = cv2.VideoCapture(0)"
   ]
  },
  {
   "cell_type": "code",
   "execution_count": null,
   "id": "3eeee14a",
   "metadata": {},
   "outputs": [],
   "source": [
    "while True:\n",
    "    # Grab the webcamera's image.\n",
    "    ret, image = camera.read()\n",
    "\n",
    "    # Resize the raw image into (224-height,224-width) pixels\n",
    "    image = cv2.resize(image, (224, 224), interpolation=cv2.INTER_AREA)\n",
    "\n",
    "    # Show the image in a window\n",
    "    cv2.imshow(\"Webcam Image\", image)\n",
    "\n",
    "    # Make the image a numpy array and reshape it to the models input shape.\n",
    "    image = np.asarray(image, dtype=np.float32).reshape(1, 224, 224, 3)\n",
    "\n",
    "    # Normalize the image array\n",
    "    image = (image / 127.5) - 1"
   ]
  },
  {
   "cell_type": "code",
   "execution_count": null,
   "id": "7fa87a10",
   "metadata": {},
   "outputs": [],
   "source": [
    "# Predicts the model\n",
    "prediction = model.predict(image)\n",
    "index = np.argmax(prediction)\n",
    "class_name = class_names[index]\n",
    "confidence_score = prediction[0][index]"
   ]
  },
  {
   "cell_type": "code",
   "execution_count": null,
   "id": "9b3db586",
   "metadata": {},
   "outputs": [],
   "source": [
    "# Print prediction and confidence score\n",
    "print(\"Class:\", class_name[2:], end=\"\")\n",
    "print(\"Confidence Score:\", str(np.round(confidence_score * 100))[:-2], \"%\")"
   ]
  },
  {
   "cell_type": "code",
   "execution_count": null,
   "id": "d20e828f",
   "metadata": {},
   "outputs": [],
   "source": [
    "# Listen to the keyboard for presses.\n",
    "keyboard_input = cv2.waitKey(1)\n",
    "\n",
    "# 27 is the ASCII for the esc key on your keyboard.\n",
    "if keyboard_input == 27:\n",
    "    break"
   ]
  },
  {
   "cell_type": "code",
   "execution_count": null,
   "id": "474f2713",
   "metadata": {},
   "outputs": [],
   "source": [
    "camera.release()\n",
    "cv2.destroyAllWindows()"
   ]
  }
 ],
 "metadata": {
  "kernelspec": {
   "display_name": "Python 3",
   "language": "python",
   "name": "python3"
  },
  "language_info": {
   "codemirror_mode": {
    "name": "ipython",
    "version": 3
   },
   "file_extension": ".py",
   "mimetype": "text/x-python",
   "name": "python",
   "nbconvert_exporter": "python",
   "pygments_lexer": "ipython3",
   "version": "3.8.8"
  }
 },
 "nbformat": 4,
 "nbformat_minor": 5
}
